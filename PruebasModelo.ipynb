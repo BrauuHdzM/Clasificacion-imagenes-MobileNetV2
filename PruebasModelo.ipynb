{
  "cells": [
    {
      "cell_type": "markdown",
      "metadata": {
        "id": "view-in-github",
        "colab_type": "text"
      },
      "source": [
        "<a href=\"https://colab.research.google.com/github/BrauuHdzM/Clasificacion-imagenes-MobileNetV2/blob/master/PruebasModelo.ipynb\" target=\"_parent\"><img src=\"https://colab.research.google.com/assets/colab-badge.svg\" alt=\"Open In Colab\"/></a>"
      ]
    },
    {
      "cell_type": "code",
      "execution_count": null,
      "metadata": {
        "id": "8b7wqx33u8DJ"
      },
      "outputs": [],
      "source": [
        "from tensorflow.keras.models import load_model\n",
        "from PIL import Image\n",
        "import requests\n",
        "from io import BytesIO\n",
        "import cv2\n",
        "import numpy as np\n",
        "import tensorflow as tf"
      ]
    },
    {
      "cell_type": "code",
      "execution_count": null,
      "metadata": {
        "id": "O2o50fyDvu8R"
      },
      "outputs": [],
      "source": [
        "import zipfile\n",
        "\n",
        "# Ruta del archivo zip que deseas descomprimir\n",
        "ruta_archivo_zip = '/content/content.zip'\n",
        "\n",
        "# Ruta de la carpeta donde deseas extraer los archivos\n",
        "ruta_carpeta_destino = '/content/my_saved_model/'\n",
        "\n",
        "with zipfile.ZipFile(ruta_archivo_zip, 'r') as zip_ref:\n",
        "    zip_ref.extractall(ruta_carpeta_destino)\n"
      ]
    },
    {
      "cell_type": "code",
      "execution_count": null,
      "metadata": {
        "id": "qqtIyZUpvG4P"
      },
      "outputs": [],
      "source": [
        "loaded_model = load_model('/content/my_saved_model/content/my_saved_model')\n",
        "# Obtener la firma predeterminada del modelo\n",
        "inference_func = loaded_model.signatures[\"serving_default\"]\n",
        "\n",
        "def categorizar(image_path):\n",
        "  # Leer la imagen con OpenCV\n",
        "  img = cv2.imread(image_path)\n",
        "\n",
        "  # Preprocesar la imagen\n",
        "  img = cv2.resize(img, (224, 224))\n",
        "  img = tf.keras.applications.mobilenet_v2.preprocess_input(img)\n",
        "\n",
        "  # Hacer una predicción\n",
        "  prediccion = loaded_model.predict(np.array([img]))\n",
        "\n",
        "  # Obtener la clase con la mayor probabilidad\n",
        "  predicted_class = np.argmax(prediccion, axis=-1)\n",
        "\n",
        "  return predicted_class[0]"
      ]
    },
    {
      "cell_type": "code",
      "execution_count": null,
      "metadata": {
        "colab": {
          "base_uri": "https://localhost:8080/"
        },
        "id": "mTEcemY_vIf4",
        "outputId": "6bdea0c0-9377-47ef-d3bf-696888b251d7"
      },
      "outputs": [
        {
          "output_type": "stream",
          "name": "stdout",
          "text": [
            "1/1 [==============================] - 0s 62ms/step\n",
            "1\n"
          ]
        }
      ],
      "source": [
        "#0 = NonViolent, 1 = Violent\n",
        "path = r'/content/E_OjGLxWYAAAfrV.jpg'\n",
        "prediccion = categorizar(path)\n",
        "print(prediccion)"
      ]
    }
  ],
  "metadata": {
    "colab": {
      "provenance": [],
      "include_colab_link": true
    },
    "kernelspec": {
      "display_name": "Python 3",
      "name": "python3"
    },
    "language_info": {
      "name": "python"
    }
  },
  "nbformat": 4,
  "nbformat_minor": 0
}